{
 "cells": [
  {
   "cell_type": "code",
   "execution_count": 15,
   "metadata": {},
   "outputs": [],
   "source": [
    "import kfp\n",
    "from kfp import dsl\n",
    "from kubernetes.client.models import V1EnvVar"
   ]
  },
  {
   "cell_type": "code",
   "execution_count": 16,
   "metadata": {},
   "outputs": [],
   "source": [
    "#Setting up all the necessary steps\n",
    "\n",
    "#Setting up the volume for the pipeline\n",
    "def setup_volume_op():\n",
    "    return dsl.VolumeOp(\n",
    "        name=\"Volume Creation\",\n",
    "        resource_name=\"dataset_pvc\",\n",
    "        modes=dsl.VOLUME_MODE_RWO,\n",
    "        size=\"1Gi\"\n",
    "    )\n",
    "\n",
    "#Downloading the necessary dataset for the training from Gcloud Bucket\n",
    "def dataset_download_op(url, volume, data_path):\n",
    "    op = dsl.ContainerOp(\n",
    "        name='Dataset Download',\n",
    "        image='google/cloud-sdk:272.0.0',\n",
    "        command=['sh', '-c'],\n",
    "        arguments=['gsutil cat $0 | tee $1', url, data_path],\n",
    "        pvolumes={\"/mnt\": volume}\n",
    "    )\n",
    "    op.container.set_memory_limit('2G')\n",
    "    op.container.set_memory_request('1G')\n",
    "    op.container.set_cpu_limit('1')\n",
    "    op.container.set_cpu_request('0.5')\n",
    "    return op\n",
    "\n",
    "#Training the model with the linear regression algorithm\n",
    "def training_op(volume, trained_path, data_path):\n",
    "    op = dsl.ContainerOp(\n",
    "        name='ML Training',\n",
    "        image='styl3/ai-devops:minikf-1',\n",
    "        command=['sh', '-c'],\n",
    "        arguments=['python3 main.py'],\n",
    "        pvolumes={'/mnt': volume}\n",
    "    )\n",
    "    op.container.add_env_variable(V1EnvVar('TRAINED_MODEL_PATH', trained_path))\n",
    "    op.container.add_env_variable(V1EnvVar('DATA_PATH', data_path))\n",
    "    # /!\\ Crash if not comment /!\\\n",
    "    # No GPU on GCP free account  \n",
    "    # op.container.set_gpu_limit('2')\n",
    "    op.container.set_memory_limit('4G')\n",
    "    op.container.set_memory_request('2G') \n",
    "    op.container.set_cpu_limit('10')\n",
    "    op.container.set_cpu_request('5')\n",
    "    return op\n",
    "#Check if the training was succesful, should have an output\n",
    "def check_op(volume, trained_path):\n",
    "    op = dsl.ContainerOp(\n",
    "        name='Training Check',\n",
    "        image='library/bash:4.4.23',\n",
    "        command=['sh', '-c'],\n",
    "        arguments=['wc $0', trained_path],\n",
    "        pvolumes={\"/mnt\": volume}\n",
    "    )\n",
    "    op.container.set_memory_limit('2G')\n",
    "    op.container.set_memory_request('1G')\n",
    "    op.container.set_cpu_limit('1')\n",
    "    op.container.set_cpu_request('0.5')\n",
    "    return op"
   ]
  },
  {
   "cell_type": "code",
   "execution_count": 17,
   "metadata": {},
   "outputs": [],
   "source": [
    "#Pipeline definition\n",
    "@dsl.pipeline(\n",
    "    name='Linear Regression',\n",
    "    description='Linear Regression pipeline with two sequential steps.'\n",
    ")\n",
    "def sequential_pipeline(url='gs://iamachine/kc_house_data.csv', \\\n",
    "                        trained_path='/mnt/trained_model', \\\n",
    "                        data_path='/mnt/dataset.csv'):\n",
    "    \"\"\"Linear Regression pipeline with two sequential steps.\"\"\"\n",
    "    volume_task = setup_volume_op()\n",
    "    dataset_task = dataset_download_op(url, volume_task.volume, data_path)\n",
    "    train_task = training_op(dataset_task.pvolume, trained_path, data_path)\n",
    "    check_task = check_op(train_task.pvolume, trained_path)"
   ]
  },
  {
   "cell_type": "code",
   "execution_count": 18,
   "metadata": {},
   "outputs": [],
   "source": [
    "#Pipeline Yaml output\n",
    "if __name__ == '__main__':\n",
    "    kfp.compiler.Compiler().compile(sequential_pipeline, 'linear-regression_pipeline.yaml')"
   ]
  },
  {
   "cell_type": "code",
   "execution_count": null,
   "metadata": {},
   "outputs": [],
   "source": []
  }
 ],
 "metadata": {
  "kernelspec": {
   "display_name": "Python 3",
   "language": "python",
   "name": "python3"
  },
  "language_info": {
   "codemirror_mode": {
    "name": "ipython",
    "version": 3
   },
   "file_extension": ".py",
   "mimetype": "text/x-python",
   "name": "python",
   "nbconvert_exporter": "python",
   "pygments_lexer": "ipython3",
   "version": "3.6.8"
  }
 },
 "nbformat": 4,
 "nbformat_minor": 4
}
